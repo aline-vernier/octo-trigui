{
 "cells": [
  {
   "cell_type": "code",
   "execution_count": 8,
   "metadata": {},
   "outputs": [],
   "source": [
    "#%% Imports\n",
    "from serial import Serial\n",
    "from PyQt5.QtWidgets import QMessageBox\n",
    "from PyQt5.QtCore import QSettings\n",
    "\n",
    "from PyQt5 import QtCore\n",
    "import time\n"
   ]
  },
  {
   "cell_type": "code",
   "execution_count": 20,
   "metadata": {},
   "outputs": [],
   "source": [
    "#%% Open port and load config file\n",
    "portA='com5' \n",
    "mysA=Serial()\n",
    "confMot=QSettings('configMoteurA2V.ini', QSettings.IniFormat) # motor configuration  files    "
   ]
  },
  {
   "cell_type": "code",
   "execution_count": 21,
   "metadata": {},
   "outputs": [],
   "source": [
    "#%% Send and Receive data    \n",
    "def sendCommand(instruction, mii, values_list):\n",
    "    \"\"\"\n",
    "    Envoyer une commande au controleur\n",
    "    'ROR':1, 'ROL':2, 'MST':3, 'MVP':4, 'SAP':5, 'GAP':6,\n",
    "            'STAP':7, 'RSAP':8, 'SGP':9, 'GGP':10, 'RFS':13, 'SIO':14, 'GIO':15, 'WAIT':27, 'STOP':28,\n",
    "                'SCO':30, 'GCO':31, 'CCO':32, 'VER':136, 'RST':255}\n",
    "    \"\"\"\n",
    "    \n",
    "    if len(values_list) > 4:\n",
    "        print (\"Command error: \"+ str(values_list).encode('hex'))\n",
    "        \n",
    "    cmd = bytearray([0x01, instruction, instr_type, mii, 0x00, 0x00, 0x00, 0x00, 0x00])\n",
    "    values_list.reverse()\n",
    "    ii = 7\n",
    "    for vii in values_list:\n",
    "        cmd[ii] =( vii)\n",
    "        ii = ii-1\n",
    "\n",
    "        cmd[8] = sum(cmd[0:8])&0xff\n",
    "\n",
    "        mysA.write(cmd)\n",
    "        time.sleep(0.02)\n",
    "        out = mysA.read(9)\n",
    "        time.sleep(0.02)\n",
    "        return bytearray(out)\n",
    "\n",
    "        \n",
    "\n",
    "def Format(value):\n",
    "    \"\"\"\n",
    "    cmd to hex\n",
    "    \"\"\"\n",
    "    return [(value>>24), ((value>>16)&0xff), ((value>>8)&0xff), (value&0xff)]\n"
   ]
  },
  {
   "cell_type": "code",
   "execution_count": 22,
   "metadata": {},
   "outputs": [],
   "source": [
    "def connect(_port):\n",
    "    \"\"\"\n",
    "    ouverture du port A\n",
    "    \"\"\"\n",
    "    mysA.port=_port\n",
    "    mysA.timeout=1\n",
    "    mysA.Baudrate=9600\n",
    "    if mysA.is_open==False:\n",
    "        mysA.open()\n",
    "    else:\n",
    "        mysA.close()\n",
    "        time.sleep(0.1)\n",
    "        mysA.open()\n",
    "    if mysA.is_open==True:\n",
    "        print ('TMCM 1 connected on port :',_port)\n",
    "    else: print('TMCM 1 on port',_port,' not connected')\n",
    "        \n",
    "def stopConnection():\n",
    "    if mysA.is_open==True:\n",
    "        try :\n",
    "            mysA.close()\n",
    "        except:\n",
    "            print('error closing', _port)\n",
    "            pass\n",
    "    print (\"TMCM disconnected\")"
   ]
  },
  {
   "cell_type": "code",
   "execution_count": 29,
   "metadata": {},
   "outputs": [],
   "source": [
    "   \n",
    "def ini(motor=None):\n",
    "    \"\"\" Motor init\n",
    "    \"\"\"\n",
    "    vMax=int(confA2V.value(motor+'/vMax'))#1142\n",
    "    iMax=int(confA2V.value(motor+'/iMax'))\n",
    "    iStby=int(confA2V.value(motor+'/iStby'))\n",
    "    accMax=int(confA2V.value(motor+'/accMax'))\n",
    "    ustepRes=int(confA2V.value(motor+'/ustepRes')) # step resolution (0-8)\n",
    "    \n",
    "    cmd=5 # Set Axis parameter \n",
    "    Type=6 # max current\n",
    "    value = Format(iMax)\n",
    "    out = sendCommand(cmd,Type,Mot,value,rack)\n",
    "\n",
    "    cmd=5 # Set Axis parameter \n",
    "    Type=7 # standby current\n",
    "    value = Format(iStby)\n",
    "    out = sendCommand(cmd,Type,Mot,value,rack)\n",
    "\n",
    "    cmd=5 # Set Axis parameter \n",
    "    Type=4 # MAx speed\n",
    "    value =Format(vMax)\n",
    "    #print value\n",
    "    out = sendCommand(cmd,Type,Mot,value,rack)\n",
    "\n",
    "    cmd=5 # Set Axis parameter \n",
    "    Type=4 # MAx acc\n",
    "    value =Format(accMax)\n",
    "    #print value\n",
    "    out = sendCommand(cmd,Type,Mot,value,rack)\n",
    "\n",
    "    cmd=5 # Set Axis parameter \n",
    "    Type=140 # set step resolution\n",
    "    value=Format(ustepRes) # entre 0 et 8 = entre 1 et 256\n",
    "    out = sendCommand(cmd,Type,Mot,value,rack)\n",
    "    #print (\" motor A2V inititalisation :  \",motor)"
   ]
  },
  {
   "cell_type": "code",
   "execution_count": 30,
   "metadata": {},
   "outputs": [
    {
     "name": "stdout",
     "output_type": "stream",
     "text": [
      "TMCM disconnected\n",
      "TMCM 1 connected on port : com5\n"
     ]
    },
    {
     "ename": "NameError",
     "evalue": "name 'Mot' is not defined",
     "output_type": "error",
     "traceback": [
      "\u001b[1;31m---------------------------------------------------------------------------\u001b[0m",
      "\u001b[1;31mNameError\u001b[0m                                 Traceback (most recent call last)",
      "\u001b[1;32m<ipython-input-30-f46a3e0378e4>\u001b[0m in \u001b[0;36m<module>\u001b[1;34m\u001b[0m\n\u001b[0;32m      1\u001b[0m \u001b[0mstopConnection\u001b[0m\u001b[1;33m(\u001b[0m\u001b[1;33m)\u001b[0m\u001b[1;33m\u001b[0m\u001b[1;33m\u001b[0m\u001b[0m\n\u001b[0;32m      2\u001b[0m \u001b[0mconnect\u001b[0m\u001b[1;33m(\u001b[0m\u001b[1;34m'com5'\u001b[0m\u001b[1;33m)\u001b[0m\u001b[1;33m\u001b[0m\u001b[1;33m\u001b[0m\u001b[0m\n\u001b[1;32m----> 3\u001b[1;33m \u001b[0mini\u001b[0m\u001b[1;33m(\u001b[0m\u001b[1;34m'Generic'\u001b[0m\u001b[1;33m)\u001b[0m\u001b[1;33m\u001b[0m\u001b[1;33m\u001b[0m\u001b[0m\n\u001b[0m\u001b[0;32m      4\u001b[0m \u001b[0mstopConnection\u001b[0m\u001b[1;33m(\u001b[0m\u001b[1;33m)\u001b[0m\u001b[1;33m\u001b[0m\u001b[1;33m\u001b[0m\u001b[0m\n",
      "\u001b[1;32m<ipython-input-29-8856c0333602>\u001b[0m in \u001b[0;36mini\u001b[1;34m(motor)\u001b[0m\n\u001b[0;32m     11\u001b[0m     \u001b[0mType\u001b[0m\u001b[1;33m=\u001b[0m\u001b[1;36m6\u001b[0m \u001b[1;31m# max current\u001b[0m\u001b[1;33m\u001b[0m\u001b[1;33m\u001b[0m\u001b[0m\n\u001b[0;32m     12\u001b[0m     \u001b[0mvalue\u001b[0m \u001b[1;33m=\u001b[0m \u001b[0mFormat\u001b[0m\u001b[1;33m(\u001b[0m\u001b[0miMax\u001b[0m\u001b[1;33m)\u001b[0m\u001b[1;33m\u001b[0m\u001b[1;33m\u001b[0m\u001b[0m\n\u001b[1;32m---> 13\u001b[1;33m     \u001b[0mout\u001b[0m \u001b[1;33m=\u001b[0m \u001b[0msendCommand\u001b[0m\u001b[1;33m(\u001b[0m\u001b[0mcmd\u001b[0m\u001b[1;33m,\u001b[0m\u001b[0mType\u001b[0m\u001b[1;33m,\u001b[0m\u001b[0mMot\u001b[0m\u001b[1;33m,\u001b[0m\u001b[0mvalue\u001b[0m\u001b[1;33m,\u001b[0m\u001b[0mrack\u001b[0m\u001b[1;33m)\u001b[0m\u001b[1;33m\u001b[0m\u001b[1;33m\u001b[0m\u001b[0m\n\u001b[0m\u001b[0;32m     14\u001b[0m \u001b[1;33m\u001b[0m\u001b[0m\n\u001b[0;32m     15\u001b[0m     \u001b[0mcmd\u001b[0m\u001b[1;33m=\u001b[0m\u001b[1;36m5\u001b[0m \u001b[1;31m# Set Axis parameter\u001b[0m\u001b[1;33m\u001b[0m\u001b[1;33m\u001b[0m\u001b[0m\n",
      "\u001b[1;31mNameError\u001b[0m: name 'Mot' is not defined"
     ]
    }
   ],
   "source": [
    "stopConnection()\n",
    "connect('com5')\n",
    "ini('Generic')\n",
    "stopConnection()"
   ]
  },
  {
   "cell_type": "code",
   "execution_count": null,
   "metadata": {},
   "outputs": [],
   "source": []
  }
 ],
 "metadata": {
  "kernelspec": {
   "display_name": "Python 3",
   "language": "python",
   "name": "python3"
  },
  "language_info": {
   "codemirror_mode": {
    "name": "ipython",
    "version": 3
   },
   "file_extension": ".py",
   "mimetype": "text/x-python",
   "name": "python",
   "nbconvert_exporter": "python",
   "pygments_lexer": "ipython3",
   "version": "3.7.4"
  }
 },
 "nbformat": 4,
 "nbformat_minor": 2
}
