{
 "cells": [
  {
   "cell_type": "code",
   "execution_count": 158,
   "metadata": {},
   "outputs": [],
   "source": [
    "from PyQt5.QtCore import QSettings\n",
    "from serial import Serial\n",
    "from time import sleep\n",
    "import pyTMCL\n",
    "from pyTMCL import Motor\n",
    "\n",
    "from PyQt5.QtCore import QSettings"
   ]
  },
  {
   "cell_type": "code",
   "execution_count": 174,
   "metadata": {},
   "outputs": [],
   "source": [
    "class abstractMotor(object):\n",
    "    def __init__(self, port, module_address, motor_id, confSettings):\n",
    "        \n",
    "        self.port=port\n",
    "        self.module_address=module_address\n",
    "        self.motor_id=motor_id\n",
    "        self.confSettings=confSettings\n",
    "        self.mottype='generic'\n",
    "        \n",
    "        # Connect, and get motor : returns Bus and Motor instances from pyTMCL module\n",
    "        self.serial_port = Serial(self.port)\n",
    "        self.bus = pyTMCL.connect(self.serial_port)\n",
    "        self.motor = self.bus.get_motor(self.module_address, self.motor_id)\n",
    "            \n",
    "        try :\n",
    "            self.confMot=QSettings(confSettings, QSettings.IniFormat) # motor configuration  files  \n",
    "            self.vMax=int(self.confMot.value(self.mottype+'/vMax'))#1142\n",
    "            self.iMax=int(self.confMot.value(self.mottype+'/iMax'))\n",
    "            self.iStby=int(self.confMot.value(self.mottype+'/iStby'))\n",
    "            self.accMax=int(self.confMot.value(self.mottype+'/accMax'))\n",
    "            self.ustepRes=int(self.confMot.value(self.mottype+'/ustepRes')) # step resolution (0-8)\n",
    "            \n",
    "        except :\n",
    "            self.serial_port.close()\n",
    "            print('Failed to load config file')\n",
    "        \n",
    "        try : \n",
    "            self.motor.set_axis_parameter(4, self.iMax)   # max current frac\n",
    "            self.motor.set_axis_parameter(5, self.accMax) # max acc\n",
    "            self.motor.set_axis_parameter(140, self.ustepRes)  # µstep res\n",
    "            self.motor.set_axis_parameter(4, self.vMax) # max vel\n",
    "            self.motor.set_axis_parameter(7, self.iStby) # max standby current \n",
    "        except :\n",
    "            self.serial_port.close()\n",
    "            print('Failed to set motor config')\n",
    "        \n",
    "    def close(self):\n",
    "        self.motor.stop()\n",
    "        self.serial_port.close()\n",
    "    \n",
    "    def STOP(self):\n",
    "        self.motor.stop()\n",
    "        \n",
    "    def callback(self):\n",
    "        print ('''Position reached: %d steps'''%self.motor.get_axis_parameter(1))\n",
    "            \n",
    "    def move_absolute(self, steps):\n",
    "        self.motor.move_absolute(steps, self.callback)\n",
    "        \n",
    "    def move_relative(self, steps):\n",
    "        self.motor.move_relative(steps)\n",
    "    \n",
    "    def get_pos(self):\n",
    "        return self.motor.get_axis_parameter(1)\n",
    "\n",
    "            \n",
    "            "
   ]
  },
  {
   "cell_type": "code",
   "execution_count": 175,
   "metadata": {},
   "outputs": [],
   "source": [
    "FOS_motor = abstractMotor('COM5', 1, 0, 'configMoteur.ini')"
   ]
  },
  {
   "cell_type": "code",
   "execution_count": 176,
   "metadata": {},
   "outputs": [
    {
     "name": "stdout",
     "output_type": "stream",
     "text": [
      "85229\n"
     ]
    }
   ],
   "source": [
    "old_pos = FOS_motor.get_pos()\n",
    "print (old_pos)\n",
    "\n",
    "FOS_motor.move_absolute(old_pos - 30000)"
   ]
  },
  {
   "cell_type": "code",
   "execution_count": 177,
   "metadata": {},
   "outputs": [
    {
     "name": "stdout",
     "output_type": "stream",
     "text": [
      "Position reached: 81215 steps\n"
     ]
    }
   ],
   "source": [
    "FOS_motor.STOP()"
   ]
  },
  {
   "cell_type": "code",
   "execution_count": 178,
   "metadata": {},
   "outputs": [],
   "source": [
    "FOS_motor.close()\n",
    "\n"
   ]
  },
  {
   "cell_type": "code",
   "execution_count": null,
   "metadata": {},
   "outputs": [],
   "source": []
  }
 ],
 "metadata": {
  "kernelspec": {
   "display_name": "Python 3",
   "language": "python",
   "name": "python3"
  },
  "language_info": {
   "codemirror_mode": {
    "name": "ipython",
    "version": 3
   },
   "file_extension": ".py",
   "mimetype": "text/x-python",
   "name": "python",
   "nbconvert_exporter": "python",
   "pygments_lexer": "ipython3",
   "version": "3.7.4"
  }
 },
 "nbformat": 4,
 "nbformat_minor": 2
}
